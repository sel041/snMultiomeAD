{
 "cells": [
  {
   "cell_type": "markdown",
   "id": "a50c3800-f97f-47f6-bbcb-434cc5213f9e",
   "metadata": {},
   "source": [
    "# Calculate several contrasts using no intervention model"
   ]
  },
  {
   "cell_type": "code",
   "execution_count": 1,
   "id": "1b698adc-4801-442b-878c-bd9aa74536a4",
   "metadata": {},
   "outputs": [],
   "source": [
    "setwd('~/5XFAD_mouse/data/')"
   ]
  },
  {
   "cell_type": "code",
   "execution_count": 2,
   "id": "2ed4becb-7b19-4424-9685-d7aa63997ea4",
   "metadata": {},
   "outputs": [],
   "source": [
    "suppressPackageStartupMessages({\n",
    "    library(Seurat)\n",
    "    library(SeuratWrappers)\n",
    "    library(patchwork)\n",
    "    library(ggplot2)\n",
    "    library(repr)\n",
    "    library(gridExtra)\n",
    "    library(edgeR)\n",
    "    library(SingleCellExperiment)\n",
    "    library(Matrix)\n",
    "    library(scran)\n",
    "    library(tidyverse)\n",
    "    library(ggrepel)\n",
    "    library(scater)\n",
    "})\n",
    "options(future.globals.maxSize = 1e9)\n",
    "options(Seurat.object.assay.version = \"v5\")\n",
    "options(ggrepel.max.overlaps = Inf)"
   ]
  },
  {
   "cell_type": "code",
   "execution_count": 3,
   "id": "662de560-6bff-4756-9d0e-77541f0b8141",
   "metadata": {},
   "outputs": [],
   "source": [
    "curr.model <- readRDS(\"DAR_fit_no_intervention_models/Astro.model\")"
   ]
  },
  {
   "cell_type": "code",
   "execution_count": 4,
   "id": "6f0529d0-10c6-4b0e-bed4-e79c5e48011f",
   "metadata": {},
   "outputs": [],
   "source": [
    "contrasts.list <- makeContrasts(\n",
    "    MvsF.3M.WT=WT.3M.M-WT.3M.F,\n",
    "    MvsF.3M.AD=AD.3M.M-AD.3M.F,\n",
    "    MvsF.9M.WT=WT.9M.M-WT.9M.F,\n",
    "    MvsF.9M.AD=AD.9M.M-AD.9M.F,\n",
    "    MvsF.18M.WT=WT.18M.M-WT.18M.F,\n",
    "    MvsF.18M.AD=AD.18M.M-AD.18M.F,\n",
    "    levels = curr.model$design\n",
    ")"
   ]
  },
  {
   "cell_type": "code",
   "execution_count": 5,
   "id": "caa1b7c5-4d47-4333-928e-f4f72c779a29",
   "metadata": {},
   "outputs": [],
   "source": [
    "contrast.names <- c(\n",
    "    \"MvsF.3M.WT\",\n",
    "    \"MvsF.3M.AD\",\n",
    "    \"MvsF.9M.WT\",\n",
    "    \"MvsF.9M.AD\",\n",
    "    \"MvsF.18M.WT\",\n",
    "    \"MvsF.18M.AD\"\n",
    ")"
   ]
  },
  {
   "cell_type": "code",
   "execution_count": 6,
   "id": "0400dae7-3e3d-4d3f-89d8-3f49be6fb4f7",
   "metadata": {},
   "outputs": [
    {
     "data": {
      "text/html": [
       "<style>\n",
       ".list-inline {list-style: none; margin:0; padding: 0}\n",
       ".list-inline>li {display: inline-block}\n",
       ".list-inline>li:not(:last-child)::after {content: \"\\00b7\"; padding: 0 .5ex}\n",
       "</style>\n",
       "<ol class=list-inline><li>'Astro'</li><li>'CA1'</li><li>'CA2'</li><li>'CA3'</li><li>'Cajal-Retzius'</li><li>'Chandelier'</li><li>'Choroid-plexus'</li><li>'DG'</li><li>'Endo'</li><li>'IOL'</li><li>'Lamp5'</li><li>'Meis2'</li><li>'Microglia'</li><li>'NB'</li><li>'Oligo'</li><li>'OPC'</li><li>'Pvalb'</li><li>'PVM'</li><li>'RGL'</li><li>'SMC-Peri'</li><li>'Sncg'</li><li>'Sst'</li><li>'SUB_1'</li><li>'SUB_2'</li><li>'SUB_3'</li><li>'SUB-ProS'</li><li>'Vip'</li><li>'VLMC'</li></ol>\n"
      ],
      "text/latex": [
       "\\begin{enumerate*}\n",
       "\\item 'Astro'\n",
       "\\item 'CA1'\n",
       "\\item 'CA2'\n",
       "\\item 'CA3'\n",
       "\\item 'Cajal-Retzius'\n",
       "\\item 'Chandelier'\n",
       "\\item 'Choroid-plexus'\n",
       "\\item 'DG'\n",
       "\\item 'Endo'\n",
       "\\item 'IOL'\n",
       "\\item 'Lamp5'\n",
       "\\item 'Meis2'\n",
       "\\item 'Microglia'\n",
       "\\item 'NB'\n",
       "\\item 'Oligo'\n",
       "\\item 'OPC'\n",
       "\\item 'Pvalb'\n",
       "\\item 'PVM'\n",
       "\\item 'RGL'\n",
       "\\item 'SMC-Peri'\n",
       "\\item 'Sncg'\n",
       "\\item 'Sst'\n",
       "\\item 'SUB\\_1'\n",
       "\\item 'SUB\\_2'\n",
       "\\item 'SUB\\_3'\n",
       "\\item 'SUB-ProS'\n",
       "\\item 'Vip'\n",
       "\\item 'VLMC'\n",
       "\\end{enumerate*}\n"
      ],
      "text/markdown": [
       "1. 'Astro'\n",
       "2. 'CA1'\n",
       "3. 'CA2'\n",
       "4. 'CA3'\n",
       "5. 'Cajal-Retzius'\n",
       "6. 'Chandelier'\n",
       "7. 'Choroid-plexus'\n",
       "8. 'DG'\n",
       "9. 'Endo'\n",
       "10. 'IOL'\n",
       "11. 'Lamp5'\n",
       "12. 'Meis2'\n",
       "13. 'Microglia'\n",
       "14. 'NB'\n",
       "15. 'Oligo'\n",
       "16. 'OPC'\n",
       "17. 'Pvalb'\n",
       "18. 'PVM'\n",
       "19. 'RGL'\n",
       "20. 'SMC-Peri'\n",
       "21. 'Sncg'\n",
       "22. 'Sst'\n",
       "23. 'SUB_1'\n",
       "24. 'SUB_2'\n",
       "25. 'SUB_3'\n",
       "26. 'SUB-ProS'\n",
       "27. 'Vip'\n",
       "28. 'VLMC'\n",
       "\n",
       "\n"
      ],
      "text/plain": [
       " [1] \"Astro\"          \"CA1\"            \"CA2\"            \"CA3\"           \n",
       " [5] \"Cajal-Retzius\"  \"Chandelier\"     \"Choroid-plexus\" \"DG\"            \n",
       " [9] \"Endo\"           \"IOL\"            \"Lamp5\"          \"Meis2\"         \n",
       "[13] \"Microglia\"      \"NB\"             \"Oligo\"          \"OPC\"           \n",
       "[17] \"Pvalb\"          \"PVM\"            \"RGL\"            \"SMC-Peri\"      \n",
       "[21] \"Sncg\"           \"Sst\"            \"SUB_1\"          \"SUB_2\"         \n",
       "[25] \"SUB_3\"          \"SUB-ProS\"       \"Vip\"            \"VLMC\"          "
      ]
     },
     "metadata": {},
     "output_type": "display_data"
    }
   ],
   "source": [
    "model.names <- list.files(\"DAR_fit_no_intervention_models/\")\n",
    "celltype.list <- sapply(strsplit(model.names, split = \"[.]\"), `[`, 1)\n",
    "celltype.list"
   ]
  },
  {
   "cell_type": "code",
   "execution_count": 7,
   "id": "81762029-b219-452e-a87c-dd833b0ed64a",
   "metadata": {},
   "outputs": [
    {
     "name": "stdout",
     "output_type": "stream",
     "text": [
      "[1] \"Astro\"\n",
      "[1] \"CA1\"\n",
      "[1] \"CA2\"\n",
      "[1] \"CA3\"\n",
      "[1] \"Cajal-Retzius\"\n",
      "[1] \"Chandelier\"\n",
      "[1] \"Choroid-plexus\"\n",
      "[1] \"DG\"\n",
      "[1] \"Endo\"\n",
      "[1] \"IOL\"\n",
      "[1] \"Lamp5\"\n",
      "[1] \"Meis2\"\n",
      "[1] \"Microglia\"\n",
      "[1] \"NB\"\n",
      "[1] \"Oligo\"\n",
      "[1] \"OPC\"\n",
      "[1] \"Pvalb\"\n",
      "[1] \"PVM\"\n",
      "[1] \"RGL\"\n",
      "[1] \"Sncg\"\n",
      "[1] \"Sst\"\n",
      "[1] \"SUB_1\"\n",
      "[1] \"SUB_2\"\n",
      "[1] \"SUB_3\"\n",
      "[1] \"SUB-ProS\"\n",
      "[1] \"Vip\"\n",
      "[1] \"VLMC\"\n"
     ]
    }
   ],
   "source": [
    "for (celltype in celltype.list) {\n",
    "    if (celltype == \"SMC-Peri\") {\n",
    "        next\n",
    "    }\n",
    "    curr.model <- readRDS(file.path(\"DAR_fit_no_intervention_models/\", paste0(celltype, \".model\")))\n",
    "    curr.output.dir <- file.path(\"DAR_contrasts_no_intervention/\", celltype)\n",
    "    if (!dir.exists(curr.output.dir)) {\n",
    "        dir.create(curr.output.dir)\n",
    "    }\n",
    "    print(celltype)\n",
    "    \n",
    "    for (contrast in contrast.names) {\n",
    "        curr.glf <- glmQLFTest(curr.model, contrast = contrasts.list[, contrast])\n",
    "        write.table(\n",
    "            topTags(curr.glf, n = Inf)$table, \n",
    "            file.path(curr.output.dir, paste0(contrast, \".\", \"tsv\")), \n",
    "            row.names = TRUE,\n",
    "            col.names = TRUE,\n",
    "            quote = FALSE,\n",
    "            sep = \"\\t\"\n",
    "        )\n",
    "    }\n",
    "}"
   ]
  },
  {
   "cell_type": "code",
   "execution_count": 8,
   "id": "217b59bd-caad-4826-ae2b-cef5fa8bf500",
   "metadata": {},
   "outputs": [],
   "source": [
    "SMC.model <- readRDS(\"DAR_fit_no_intervention_models/SMC-Peri.model\")"
   ]
  },
  {
   "cell_type": "code",
   "execution_count": 9,
   "id": "ad5ad85d-e301-4a9f-a397-6f7d11a6e060",
   "metadata": {},
   "outputs": [],
   "source": [
    "SMC.contrasts.list <- makeContrasts(\n",
    "    MvsF.3M.AD=AD.3M.M-AD.3M.F,\n",
    "    MvsF.9M.WT=WT.9M.M-WT.9M.F,\n",
    "    MvsF.9M.AD=AD.9M.M-AD.9M.F,\n",
    "    MvsF.18M.WT=WT.18M.M-WT.18M.F,\n",
    "    MvsF.18M.AD=AD.18M.M-AD.18M.F,\n",
    "    levels = SMC.model$design\n",
    ")"
   ]
  },
  {
   "cell_type": "code",
   "execution_count": 10,
   "id": "cfb28c51-a553-4626-b764-01e7ec62ee1d",
   "metadata": {},
   "outputs": [],
   "source": [
    "SMC.contrast.names <- c(\n",
    "    \"MvsF.3M.AD\",\n",
    "    \"MvsF.9M.WT\",\n",
    "    \"MvsF.9M.AD\",\n",
    "    \"MvsF.18M.WT\",\n",
    "    \"MvsF.18M.AD\"\n",
    ")"
   ]
  },
  {
   "cell_type": "code",
   "execution_count": 11,
   "id": "8f153bbe-26c6-4bf2-8204-70306acf6f04",
   "metadata": {},
   "outputs": [],
   "source": [
    "celltype <- \"SMC-Peri\"\n",
    "curr.output.dir <- file.path(\"DAR_contrasts_no_intervention/\", celltype)\n",
    "if (!dir.exists(curr.output.dir)) {\n",
    "    dir.create(curr.output.dir)\n",
    "}\n",
    "\n",
    "for (contrast in SMC.contrast.names) {\n",
    "    curr.glf <- glmQLFTest(SMC.model, contrast = SMC.contrasts.list[, contrast])\n",
    "    write.table(\n",
    "        topTags(curr.glf, n = Inf)$table, \n",
    "        file.path(curr.output.dir, paste0(contrast, \".\", \"tsv\")), \n",
    "        row.names = TRUE,\n",
    "        col.names = TRUE,\n",
    "        quote = FALSE,\n",
    "        sep = \"\\t\"\n",
    "    )\n",
    "}"
   ]
  },
  {
   "cell_type": "code",
   "execution_count": null,
   "id": "77ef552b-c91a-491d-9fef-bdb869a29db1",
   "metadata": {},
   "outputs": [],
   "source": []
  }
 ],
 "metadata": {
  "kernelspec": {
   "display_name": "R",
   "language": "R",
   "name": "ir"
  },
  "language_info": {
   "codemirror_mode": "r",
   "file_extension": ".r",
   "mimetype": "text/x-r-source",
   "name": "R",
   "pygments_lexer": "r",
   "version": "4.3.1"
  }
 },
 "nbformat": 4,
 "nbformat_minor": 5
}
