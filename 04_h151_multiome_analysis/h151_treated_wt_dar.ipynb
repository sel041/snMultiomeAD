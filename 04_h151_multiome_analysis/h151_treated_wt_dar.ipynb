{
 "cells": [
  {
   "cell_type": "markdown",
   "id": "47de7ec2-1262-46a3-a076-f03d3791e617",
   "metadata": {},
   "source": [
    "# Compare H151 treated 5xFAD v.s. DMSO treated 5xFAD"
   ]
  },
  {
   "cell_type": "code",
   "execution_count": 1,
   "id": "2a721054-d2f9-4303-9268-799bb53689d5",
   "metadata": {
    "tags": []
   },
   "outputs": [],
   "source": [
    "suppressPackageStartupMessages({\n",
    "    library(Seurat)\n",
    "    library(SeuratWrappers)\n",
    "    library(patchwork)\n",
    "    library(ggplot2)\n",
    "    library(repr)\n",
    "    library(gridExtra)\n",
    "    library(edgeR)\n",
    "    library(SingleCellExperiment)\n",
    "    library(Matrix)\n",
    "    library(scran)\n",
    "    library(tidyverse)\n",
    "    library(ggrepel)\n",
    "    library(scater)\n",
    "    library(fs)\n",
    "    library(Signac)\n",
    "})\n",
    "options(future.globals.maxSize = 1e9)\n",
    "options(Seurat.object.assay.version = \"v5\")\n",
    "options(ggrepel.max.overlaps = Inf)"
   ]
  },
  {
   "cell_type": "code",
   "execution_count": 2,
   "id": "4b507b16-8cf6-4a2c-a3bb-01c42ba436d4",
   "metadata": {
    "tags": []
   },
   "outputs": [],
   "source": [
    "setwd(\"~/5XFAD_mouse/data/\")"
   ]
  },
  {
   "cell_type": "code",
   "execution_count": 3,
   "id": "dbf8bc3f-1c6f-481d-acea-ffaa9f1522b6",
   "metadata": {
    "tags": []
   },
   "outputs": [],
   "source": [
    "seurat_object <- readRDS(\n",
    "    \"mouseAD_H151_ATAC_signac_object.rds\")"
   ]
  },
  {
   "cell_type": "code",
   "execution_count": 4,
   "id": "3ddf9c2b-e007-4dfe-b03e-b9b76d5a97c2",
   "metadata": {
    "tags": []
   },
   "outputs": [
    {
     "data": {
      "text/html": [
       "<style>\n",
       ".list-inline {list-style: none; margin:0; padding: 0}\n",
       ".list-inline>li {display: inline-block}\n",
       ".list-inline>li:not(:last-child)::after {content: \"\\00b7\"; padding: 0 .5ex}\n",
       "</style>\n",
       "<ol class=list-inline><li>'2528'</li><li>'2529'</li><li>'2530'</li><li>'2714'</li><li>'2816'</li><li>'2891'</li><li>'2893'</li><li>'2894'</li><li>'3000'</li><li>'3001'</li><li>'3002'</li><li>'3003'</li><li>'3501'</li><li>'3502'</li><li>'3503'</li></ol>\n"
      ],
      "text/latex": [
       "\\begin{enumerate*}\n",
       "\\item '2528'\n",
       "\\item '2529'\n",
       "\\item '2530'\n",
       "\\item '2714'\n",
       "\\item '2816'\n",
       "\\item '2891'\n",
       "\\item '2893'\n",
       "\\item '2894'\n",
       "\\item '3000'\n",
       "\\item '3001'\n",
       "\\item '3002'\n",
       "\\item '3003'\n",
       "\\item '3501'\n",
       "\\item '3502'\n",
       "\\item '3503'\n",
       "\\end{enumerate*}\n"
      ],
      "text/markdown": [
       "1. '2528'\n",
       "2. '2529'\n",
       "3. '2530'\n",
       "4. '2714'\n",
       "5. '2816'\n",
       "6. '2891'\n",
       "7. '2893'\n",
       "8. '2894'\n",
       "9. '3000'\n",
       "10. '3001'\n",
       "11. '3002'\n",
       "12. '3003'\n",
       "13. '3501'\n",
       "14. '3502'\n",
       "15. '3503'\n",
       "\n",
       "\n"
      ],
      "text/plain": [
       " [1] \"2528\" \"2529\" \"2530\" \"2714\" \"2816\" \"2891\" \"2893\" \"2894\" \"3000\" \"3001\"\n",
       "[11] \"3002\" \"3003\" \"3501\" \"3502\" \"3503\""
      ]
     },
     "metadata": {},
     "output_type": "display_data"
    }
   ],
   "source": [
    "unique(seurat_object$orig.ident)"
   ]
  },
  {
   "cell_type": "code",
   "execution_count": 5,
   "id": "fb057e0e-12ca-438b-a41f-e83d2f6e95b2",
   "metadata": {
    "tags": []
   },
   "outputs": [
    {
     "data": {
      "text/html": [
       "<style>\n",
       ".list-inline {list-style: none; margin:0; padding: 0}\n",
       ".list-inline>li {display: inline-block}\n",
       ".list-inline>li:not(:last-child)::after {content: \"\\00b7\"; padding: 0 .5ex}\n",
       "</style>\n",
       "<ol class=list-inline><li>'Oligo'</li><li>'DG'</li><li>'SUB_2'</li><li>'CA3'</li><li>'Microglia'</li><li>'SUB-ProS'</li><li>'Sst'</li><li>'OPC'</li><li>'CA1'</li><li>'Pvalb'</li><li>'Astro'</li><li>'Vip'</li><li>'SUB_1'</li><li>'Meis2'</li><li>'Lamp5'</li><li>'SUB_3'</li><li>'CA2'</li><li>'Sncg'</li><li>'Endo'</li><li>'Chandelier'</li><li>'IOL'</li><li>'PVM'</li><li>'Choroid-plexus'</li><li>'VLMC'</li><li>'SMC-Peri'</li></ol>\n"
      ],
      "text/latex": [
       "\\begin{enumerate*}\n",
       "\\item 'Oligo'\n",
       "\\item 'DG'\n",
       "\\item 'SUB\\_2'\n",
       "\\item 'CA3'\n",
       "\\item 'Microglia'\n",
       "\\item 'SUB-ProS'\n",
       "\\item 'Sst'\n",
       "\\item 'OPC'\n",
       "\\item 'CA1'\n",
       "\\item 'Pvalb'\n",
       "\\item 'Astro'\n",
       "\\item 'Vip'\n",
       "\\item 'SUB\\_1'\n",
       "\\item 'Meis2'\n",
       "\\item 'Lamp5'\n",
       "\\item 'SUB\\_3'\n",
       "\\item 'CA2'\n",
       "\\item 'Sncg'\n",
       "\\item 'Endo'\n",
       "\\item 'Chandelier'\n",
       "\\item 'IOL'\n",
       "\\item 'PVM'\n",
       "\\item 'Choroid-plexus'\n",
       "\\item 'VLMC'\n",
       "\\item 'SMC-Peri'\n",
       "\\end{enumerate*}\n"
      ],
      "text/markdown": [
       "1. 'Oligo'\n",
       "2. 'DG'\n",
       "3. 'SUB_2'\n",
       "4. 'CA3'\n",
       "5. 'Microglia'\n",
       "6. 'SUB-ProS'\n",
       "7. 'Sst'\n",
       "8. 'OPC'\n",
       "9. 'CA1'\n",
       "10. 'Pvalb'\n",
       "11. 'Astro'\n",
       "12. 'Vip'\n",
       "13. 'SUB_1'\n",
       "14. 'Meis2'\n",
       "15. 'Lamp5'\n",
       "16. 'SUB_3'\n",
       "17. 'CA2'\n",
       "18. 'Sncg'\n",
       "19. 'Endo'\n",
       "20. 'Chandelier'\n",
       "21. 'IOL'\n",
       "22. 'PVM'\n",
       "23. 'Choroid-plexus'\n",
       "24. 'VLMC'\n",
       "25. 'SMC-Peri'\n",
       "\n",
       "\n"
      ],
      "text/plain": [
       " [1] \"Oligo\"          \"DG\"             \"SUB_2\"          \"CA3\"           \n",
       " [5] \"Microglia\"      \"SUB-ProS\"       \"Sst\"            \"OPC\"           \n",
       " [9] \"CA1\"            \"Pvalb\"          \"Astro\"          \"Vip\"           \n",
       "[13] \"SUB_1\"          \"Meis2\"          \"Lamp5\"          \"SUB_3\"         \n",
       "[17] \"CA2\"            \"Sncg\"           \"Endo\"           \"Chandelier\"    \n",
       "[21] \"IOL\"            \"PVM\"            \"Choroid-plexus\" \"VLMC\"          \n",
       "[25] \"SMC-Peri\"      "
      ]
     },
     "metadata": {},
     "output_type": "display_data"
    }
   ],
   "source": [
    "unique(seurat_object$final_cluster)"
   ]
  },
  {
   "cell_type": "code",
   "execution_count": 6,
   "id": "0d603371-079d-4b4a-ae66-2d25eb1b2bd3",
   "metadata": {
    "tags": []
   },
   "outputs": [
    {
     "data": {
      "text/html": [
       "<style>\n",
       ".list-inline {list-style: none; margin:0; padding: 0}\n",
       ".list-inline>li {display: inline-block}\n",
       ".list-inline>li:not(:last-child)::after {content: \"\\00b7\"; padding: 0 .5ex}\n",
       "</style>\n",
       "<ol class=list-inline><li>'5XFAD'</li><li>'WT'</li></ol>\n"
      ],
      "text/latex": [
       "\\begin{enumerate*}\n",
       "\\item '5XFAD'\n",
       "\\item 'WT'\n",
       "\\end{enumerate*}\n"
      ],
      "text/markdown": [
       "1. '5XFAD'\n",
       "2. 'WT'\n",
       "\n",
       "\n"
      ],
      "text/plain": [
       "[1] \"5XFAD\" \"WT\"   "
      ]
     },
     "metadata": {},
     "output_type": "display_data"
    }
   ],
   "source": [
    "unique(seurat_object$genotype)"
   ]
  },
  {
   "cell_type": "code",
   "execution_count": 7,
   "id": "4970739e-ca13-47d4-b289-8e83e526939d",
   "metadata": {
    "tags": []
   },
   "outputs": [
    {
     "data": {
      "text/plain": [
       "       \n",
       "         2528  2529  2530  2714  2816  2891  2893  2894  3000  3001  3002  3003\n",
       "  5XFAD 10579  9108  5624  6276  2370  9576 10793  8450     0     0     0     0\n",
       "  WT        0     0     0     0     0     0     0     0  8256  7817 10103  6336\n",
       "       \n",
       "         3501  3502  3503\n",
       "  5XFAD     0     0     0\n",
       "  WT     9190  7222  9222"
      ]
     },
     "metadata": {},
     "output_type": "display_data"
    }
   ],
   "source": [
    "table(seurat_object$genotype, seurat_object$orig.ident)"
   ]
  },
  {
   "cell_type": "code",
   "execution_count": 8,
   "id": "296785f9-e490-493c-9e1c-a4b831261422",
   "metadata": {
    "tags": []
   },
   "outputs": [
    {
     "data": {
      "text/plain": [
       "       \n",
       "         DMSO  H151\n",
       "  5XFAD 34443 28333\n",
       "  WT    25634 32512"
      ]
     },
     "metadata": {},
     "output_type": "display_data"
    }
   ],
   "source": [
    "table(seurat_object$genotype, seurat_object$intervention)"
   ]
  },
  {
   "cell_type": "code",
   "execution_count": 9,
   "id": "88359e4e-7313-4375-b520-3137184ac7cf",
   "metadata": {
    "tags": []
   },
   "outputs": [
    {
     "data": {
      "text/plain": [
       "      \n",
       "        DMSO  H151\n",
       "  2528     0 10579\n",
       "  2529     0  9108\n",
       "  2530  5624     0\n",
       "  2714     0  6276\n",
       "  2816     0  2370\n",
       "  2891  9576     0\n",
       "  2893 10793     0\n",
       "  2894  8450     0\n",
       "  3000     0  8256\n",
       "  3001     0  7817\n",
       "  3002     0 10103\n",
       "  3003     0  6336\n",
       "  3501  9190     0\n",
       "  3502  7222     0\n",
       "  3503  9222     0"
      ]
     },
     "metadata": {},
     "output_type": "display_data"
    }
   ],
   "source": [
    "table(seurat_object$orig.ident, seurat_object$intervention)"
   ]
  },
  {
   "cell_type": "code",
   "execution_count": 10,
   "id": "5bcb2ea5-f9af-4ec7-bd1d-b2537aaacc63",
   "metadata": {
    "tags": []
   },
   "outputs": [],
   "source": [
    "seurat_object_wt <- subset(seurat_object, subset = genotype == \"WT\")"
   ]
  },
  {
   "cell_type": "markdown",
   "id": "6317f3ba-aaed-4f4c-95c8-c4f447fc8d45",
   "metadata": {},
   "source": [
    "## Start processing"
   ]
  },
  {
   "cell_type": "code",
   "execution_count": 11,
   "id": "fc007d5a-321d-41ff-bd21-e3abbbd27e6b",
   "metadata": {
    "tags": []
   },
   "outputs": [],
   "source": [
    "subclasses <- path_ext_remove(path_file(dir_ls(\"H151_raw_peaks/\")))"
   ]
  },
  {
   "cell_type": "code",
   "execution_count": 12,
   "id": "9775bffc-1d58-4d1f-94f4-725a03902500",
   "metadata": {
    "tags": []
   },
   "outputs": [
    {
     "data": {
      "text/plain": [
       "\n",
       "         Astro            CA1            CA2            CA3     Chandelier \n",
       "           364          16213            996           7766            822 \n",
       "Choroid-plexus             DG           Endo            IOL          Lamp5 \n",
       "            47          27171            113            186           1697 \n",
       "         Meis2      Microglia          Oligo            OPC          Pvalb \n",
       "          3976           6922          25842           2167           1341 \n",
       "           PVM       SMC-Peri           Sncg            Sst          SUB_1 \n",
       "           142             53            972           2114           3349 \n",
       "         SUB_2          SUB_3       SUB-ProS            Vip           VLMC \n",
       "         12665           2020           2691           1161            132 "
      ]
     },
     "metadata": {},
     "output_type": "display_data"
    }
   ],
   "source": [
    "table(seurat_object$final_cluster)"
   ]
  },
  {
   "cell_type": "code",
   "execution_count": 14,
   "id": "ee9a9823-6a85-41bd-8ccc-948b4a4c5ce1",
   "metadata": {
    "tags": []
   },
   "outputs": [
    {
     "data": {
      "text/plain": [
       "\n",
       "         Astro            CA1            CA2            CA3     Chandelier \n",
       "           234           8810            508           3894            414 \n",
       "Choroid-plexus             DG           Endo            IOL          Lamp5 \n",
       "            31          15511             28             54            819 \n",
       "         Meis2      Microglia          Oligo            OPC          Pvalb \n",
       "          2393           1619          12446           1024            545 \n",
       "           PVM       SMC-Peri           Sncg            Sst          SUB_1 \n",
       "            77             38            481            925           1830 \n",
       "         SUB_2          SUB_3       SUB-ProS            Vip           VLMC \n",
       "          4088            940            879            494             64 "
      ]
     },
     "metadata": {},
     "output_type": "display_data"
    }
   ],
   "source": [
    "table(seurat_object_wt$final_cluster)"
   ]
  },
  {
   "cell_type": "code",
   "execution_count": 16,
   "id": "11511de1-1ca3-411c-919c-ee59094f8188",
   "metadata": {
    "tags": []
   },
   "outputs": [
    {
     "name": "stderr",
     "output_type": "stream",
     "text": [
      "Removing 8 rows with all zero counts\n",
      "\n",
      "Removing 20 rows with all zero counts\n",
      "\n",
      "Removing 10215 rows with all zero counts\n",
      "\n",
      "Removing 910 rows with all zero counts\n",
      "\n",
      "Removing 1796 rows with all zero counts\n",
      "\n",
      "Removing 424 rows with all zero counts\n",
      "\n",
      "Removing 2749 rows with all zero counts\n",
      "\n",
      "Removing 10036 rows with all zero counts\n",
      "\n",
      "Removing 10109 rows with all zero counts\n",
      "\n",
      "Removing 4579 rows with all zero counts\n",
      "\n",
      "Removing 15947 rows with all zero counts\n",
      "\n",
      "Warning message:\n",
      "“21 very small variances detected, have been offset away from zero”\n",
      "Warning message:\n",
      "“Zero sample variances detected, have been offset away from zero”\n",
      "Removing 15657 rows with all zero counts\n",
      "\n",
      "Removing 14916 rows with all zero counts\n",
      "\n",
      "Removing 12438 rows with all zero counts\n",
      "\n",
      "Removing 7476 rows with all zero counts\n",
      "\n",
      "Removing 15629 rows with all zero counts\n",
      "\n",
      "Removing 14770 rows with all zero counts\n",
      "\n",
      "Warning message:\n",
      "“18 very small variances detected, have been offset away from zero”\n",
      "Warning message:\n",
      "“Zero sample variances detected, have been offset away from zero”\n",
      "Removing 17432 rows with all zero counts\n",
      "\n",
      "Removing 15994 rows with all zero counts\n",
      "\n",
      "Warning message:\n",
      "“Zero sample variances detected, have been offset away from zero”\n",
      "Warning message in splines::ns(covariate, df = splinedf, intercept = TRUE):\n",
      "“shoving 'interior' knots matching boundary knots to inside”\n"
     ]
    }
   ],
   "source": [
    "for (subclass in unique(seurat_object_wt$final_cluster)) {\n",
    "    if (subclass %in% c(\n",
    "        \"Choroid-plexus\", \"Endo\", \"IOL\", \n",
    "        \"PVM\", \"SMC-Peri\", \"VLMC\", \"DAM\"\n",
    "    )) {\n",
    "        next\n",
    "    }\n",
    "    \n",
    "    bed_file <- sprintf(\"H151_raw_peaks/%s.bed\", subclass)\n",
    "    bed_table <- read.table(bed_file, sep = \"\\t\", header = FALSE)\n",
    "    colnames(bed_table) <- c(\"chrom\", \"start\", \"end\", \"label\")\n",
    "    kept_peaks <- paste(bed_table$chrom, bed_table$start, bed_table$end, sep = \"-\")\n",
    "    curr_object <- subset(seurat_object_wt, subset = final_cluster == subclass)\n",
    "    curr_object <- curr_object[kept_peaks]\n",
    "    \n",
    "    curr_sce <- SingleCellExperiment(\n",
    "        list(counts = LayerData(curr_object, layer = \"counts\")),\n",
    "        colData = curr_object@meta.data\n",
    "    )\n",
    "    curr_sce_aggr <- aggregateAcrossCells(curr_sce, curr_object$orig.ident)\n",
    "    \n",
    "    curr_counts <- counts(curr_sce_aggr)\n",
    "    Group <- curr_sce_aggr$intervention\n",
    "    Group <- factor(Group, levels = c(\"DMSO\", \"H151\"))\n",
    "    \n",
    "    curr_dge <- DGEList(counts = curr_counts, group = Group, remove.zeros = TRUE)\n",
    "    # keep <- filterByExpr(curr_dge, min.count = 2, min.prop = 0.5)\n",
    "    # curr_dge <- curr_dge[keep, , keep.lib.sizes=FALSE]\n",
    "    curr_dge <- calcNormFactors(curr_dge, method = \"TMM\")\n",
    "    \n",
    "    curr_design <- model.matrix(~ 0 + Group)\n",
    "    colnames(curr_design) <- levels(Group)\n",
    "    curr_dge <- estimateDisp(curr_dge, curr_design, robust = TRUE)\n",
    "    curr_fit <- glmQLFit(curr_dge, curr_design)\n",
    "    curr_glf <- glmQLFTest(curr_fit, contrast = c(-1, 1))\n",
    "    \n",
    "    write.table(\n",
    "        topTags(curr_glf, n = Inf)$table, \n",
    "        file.path(\"DAR_H151_WT/\", paste0(subclass, \".result.tsv\")), \n",
    "        row.names = TRUE,\n",
    "        col.names = TRUE,\n",
    "        quote = FALSE,\n",
    "        sep = \"\\t\"\n",
    "    )\n",
    "}"
   ]
  },
  {
   "cell_type": "code",
   "execution_count": null,
   "id": "46c761f1-e90a-441d-80c0-3a3aa51179e6",
   "metadata": {},
   "outputs": [],
   "source": []
  }
 ],
 "metadata": {
  "kernelspec": {
   "display_name": "R",
   "language": "R",
   "name": "ir"
  },
  "language_info": {
   "codemirror_mode": "r",
   "file_extension": ".r",
   "mimetype": "text/x-r-source",
   "name": "R",
   "pygments_lexer": "r",
   "version": "4.3.1"
  }
 },
 "nbformat": 4,
 "nbformat_minor": 5
}
