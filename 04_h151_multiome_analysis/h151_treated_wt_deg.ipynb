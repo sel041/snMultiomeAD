{
 "cells": [
  {
   "cell_type": "markdown",
   "id": "b45c03c3-3b1a-4bb7-a63e-f4449ca72033",
   "metadata": {},
   "source": [
    "# Compare H151 treated 5xFAD v.s. DMSO treated 5xFAD"
   ]
  },
  {
   "cell_type": "code",
   "execution_count": 1,
   "id": "b0b23c56-f138-48c6-b5a3-e8e28610e185",
   "metadata": {
    "tags": []
   },
   "outputs": [],
   "source": [
    "suppressPackageStartupMessages({\n",
    "    library(Seurat)\n",
    "    library(SeuratWrappers)\n",
    "    library(patchwork)\n",
    "    library(ggplot2)\n",
    "    library(repr)\n",
    "    library(gridExtra)\n",
    "    library(edgeR)\n",
    "    library(SingleCellExperiment)\n",
    "    library(Matrix)\n",
    "    library(scran)\n",
    "    library(tidyverse)\n",
    "    library(ggrepel)\n",
    "    library(scater)\n",
    "})\n",
    "options(future.globals.maxSize = 1e9)\n",
    "options(Seurat.object.assay.version = \"v5\")\n",
    "options(ggrepel.max.overlaps = Inf)"
   ]
  },
  {
   "cell_type": "code",
   "execution_count": 2,
   "id": "3372db05-3c22-4d1c-a498-0375419a7adf",
   "metadata": {
    "tags": []
   },
   "outputs": [],
   "source": [
    "setwd(\"~/5XFAD_mouse/data/\")"
   ]
  },
  {
   "cell_type": "code",
   "execution_count": 3,
   "id": "1ee53ca5-5759-49c3-bab0-9933c04db3db",
   "metadata": {
    "tags": []
   },
   "outputs": [],
   "source": [
    "seurat_object <- readRDS(\n",
    "    \"mouseAD_H151_RNA_seurat_object.rds\")"
   ]
  },
  {
   "cell_type": "code",
   "execution_count": 4,
   "id": "15b20496-77e0-4c5c-ade3-66f736df6dcc",
   "metadata": {
    "tags": []
   },
   "outputs": [
    {
     "data": {
      "text/html": [
       "<style>\n",
       ".list-inline {list-style: none; margin:0; padding: 0}\n",
       ".list-inline>li {display: inline-block}\n",
       ".list-inline>li:not(:last-child)::after {content: \"\\00b7\"; padding: 0 .5ex}\n",
       "</style>\n",
       "<ol class=list-inline><li>'WT'</li><li>'5XFAD'</li></ol>\n"
      ],
      "text/latex": [
       "\\begin{enumerate*}\n",
       "\\item 'WT'\n",
       "\\item '5XFAD'\n",
       "\\end{enumerate*}\n"
      ],
      "text/markdown": [
       "1. 'WT'\n",
       "2. '5XFAD'\n",
       "\n",
       "\n"
      ],
      "text/plain": [
       "[1] \"WT\"    \"5XFAD\""
      ]
     },
     "metadata": {},
     "output_type": "display_data"
    }
   ],
   "source": [
    "unique(seurat_object$genotype)"
   ]
  },
  {
   "cell_type": "code",
   "execution_count": 5,
   "id": "e20eb00b-4b39-4af1-9de1-3f5f9ba5a513",
   "metadata": {
    "tags": []
   },
   "outputs": [],
   "source": [
    "wt_object <- subset(seurat_object, subset = genotype == \"WT\")"
   ]
  },
  {
   "cell_type": "code",
   "execution_count": 6,
   "id": "186a8e78-5938-4bf8-a337-ceb10a9601e0",
   "metadata": {
    "tags": []
   },
   "outputs": [
    {
     "data": {
      "text/html": [
       "<style>\n",
       ".list-inline {list-style: none; margin:0; padding: 0}\n",
       ".list-inline>li {display: inline-block}\n",
       ".list-inline>li:not(:last-child)::after {content: \"\\00b7\"; padding: 0 .5ex}\n",
       "</style>\n",
       "<ol class=list-inline><li>DG</li><li>CA1</li><li>SUB</li><li>Oligo</li><li>CA2-CA3</li><li>OPC</li><li>Lamp5</li><li>Sst</li><li>Micro</li><li>Pvalb</li><li>Vip</li><li>Meis2</li><li>Sncg</li><li>Astro</li><li>Chandelier</li><li>IOL</li><li>SMC-Peri</li><li>Endo</li><li>VLMC</li><li>Macro</li><li>Choroid-plexus</li></ol>\n",
       "\n",
       "<details>\n",
       "\t<summary style=display:list-item;cursor:pointer>\n",
       "\t\t<strong>Levels</strong>:\n",
       "\t</summary>\n",
       "\t<style>\n",
       "\t.list-inline {list-style: none; margin:0; padding: 0}\n",
       "\t.list-inline>li {display: inline-block}\n",
       "\t.list-inline>li:not(:last-child)::after {content: \"\\00b7\"; padding: 0 .5ex}\n",
       "\t</style>\n",
       "\t<ol class=list-inline><li>'DG'</li><li>'CA1'</li><li>'CA2-CA3'</li><li>'SUB'</li><li>'Lamp5'</li><li>'Pvalb'</li><li>'Sst'</li><li>'Vip'</li><li>'Meis2'</li><li>'Sncg'</li><li>'Chandelier'</li><li>'Astro'</li><li>'OPC'</li><li>'IOL'</li><li>'Oligo'</li><li>'Micro'</li><li>'Macro'</li><li>'VLMC'</li><li>'Endo'</li><li>'SMC-Peri'</li><li>'Choroid-plexus'</li></ol>\n",
       "</details>"
      ],
      "text/latex": [
       "\\begin{enumerate*}\n",
       "\\item DG\n",
       "\\item CA1\n",
       "\\item SUB\n",
       "\\item Oligo\n",
       "\\item CA2-CA3\n",
       "\\item OPC\n",
       "\\item Lamp5\n",
       "\\item Sst\n",
       "\\item Micro\n",
       "\\item Pvalb\n",
       "\\item Vip\n",
       "\\item Meis2\n",
       "\\item Sncg\n",
       "\\item Astro\n",
       "\\item Chandelier\n",
       "\\item IOL\n",
       "\\item SMC-Peri\n",
       "\\item Endo\n",
       "\\item VLMC\n",
       "\\item Macro\n",
       "\\item Choroid-plexus\n",
       "\\end{enumerate*}\n",
       "\n",
       "\\emph{Levels}: \\begin{enumerate*}\n",
       "\\item 'DG'\n",
       "\\item 'CA1'\n",
       "\\item 'CA2-CA3'\n",
       "\\item 'SUB'\n",
       "\\item 'Lamp5'\n",
       "\\item 'Pvalb'\n",
       "\\item 'Sst'\n",
       "\\item 'Vip'\n",
       "\\item 'Meis2'\n",
       "\\item 'Sncg'\n",
       "\\item 'Chandelier'\n",
       "\\item 'Astro'\n",
       "\\item 'OPC'\n",
       "\\item 'IOL'\n",
       "\\item 'Oligo'\n",
       "\\item 'Micro'\n",
       "\\item 'Macro'\n",
       "\\item 'VLMC'\n",
       "\\item 'Endo'\n",
       "\\item 'SMC-Peri'\n",
       "\\item 'Choroid-plexus'\n",
       "\\end{enumerate*}\n"
      ],
      "text/markdown": [
       "1. DG\n",
       "2. CA1\n",
       "3. SUB\n",
       "4. Oligo\n",
       "5. CA2-CA3\n",
       "6. OPC\n",
       "7. Lamp5\n",
       "8. Sst\n",
       "9. Micro\n",
       "10. Pvalb\n",
       "11. Vip\n",
       "12. Meis2\n",
       "13. Sncg\n",
       "14. Astro\n",
       "15. Chandelier\n",
       "16. IOL\n",
       "17. SMC-Peri\n",
       "18. Endo\n",
       "19. VLMC\n",
       "20. Macro\n",
       "21. Choroid-plexus\n",
       "\n",
       "\n",
       "\n",
       "**Levels**: 1. 'DG'\n",
       "2. 'CA1'\n",
       "3. 'CA2-CA3'\n",
       "4. 'SUB'\n",
       "5. 'Lamp5'\n",
       "6. 'Pvalb'\n",
       "7. 'Sst'\n",
       "8. 'Vip'\n",
       "9. 'Meis2'\n",
       "10. 'Sncg'\n",
       "11. 'Chandelier'\n",
       "12. 'Astro'\n",
       "13. 'OPC'\n",
       "14. 'IOL'\n",
       "15. 'Oligo'\n",
       "16. 'Micro'\n",
       "17. 'Macro'\n",
       "18. 'VLMC'\n",
       "19. 'Endo'\n",
       "20. 'SMC-Peri'\n",
       "21. 'Choroid-plexus'\n",
       "\n",
       "\n"
      ],
      "text/plain": [
       " [1] DG             CA1            SUB            Oligo          CA2-CA3       \n",
       " [6] OPC            Lamp5          Sst            Micro          Pvalb         \n",
       "[11] Vip            Meis2          Sncg           Astro          Chandelier    \n",
       "[16] IOL            SMC-Peri       Endo           VLMC           Macro         \n",
       "[21] Choroid-plexus\n",
       "21 Levels: DG CA1 CA2-CA3 SUB Lamp5 Pvalb Sst Vip Meis2 Sncg ... Choroid-plexus"
      ]
     },
     "metadata": {},
     "output_type": "display_data"
    }
   ],
   "source": [
    "unique(wt_object$final_celltype)"
   ]
  },
  {
   "cell_type": "code",
   "execution_count": 8,
   "id": "8b40bd62-59de-4fc7-b3ef-6706dd014448",
   "metadata": {
    "collapsed": true,
    "jupyter": {
     "outputs_hidden": true
    },
    "tags": []
   },
   "outputs": [
    {
     "name": "stderr",
     "output_type": "stream",
     "text": [
      "Removing 7840 rows with all zero counts\n",
      "\n",
      "Removing 7729 rows with all zero counts\n",
      "\n",
      "Removing 7434 rows with all zero counts\n",
      "\n",
      "Removing 11031 rows with all zero counts\n",
      "\n",
      "Removing 8192 rows with all zero counts\n",
      "\n",
      "Removing 14690 rows with all zero counts\n",
      "\n",
      "Removing 13268 rows with all zero counts\n",
      "\n",
      "Removing 12434 rows with all zero counts\n",
      "\n",
      "Removing 15665 rows with all zero counts\n",
      "\n",
      "Removing 14013 rows with all zero counts\n",
      "\n",
      "Removing 15491 rows with all zero counts\n",
      "\n",
      "Removing 10092 rows with all zero counts\n",
      "\n",
      "Removing 13475 rows with all zero counts\n",
      "\n",
      "Removing 17551 rows with all zero counts\n",
      "\n",
      "Removing 13472 rows with all zero counts\n",
      "\n",
      "Removing 21379 rows with all zero counts\n",
      "\n",
      "Removing 22030 rows with all zero counts\n",
      "\n",
      "Removing 23547 rows with all zero counts\n",
      "\n",
      "Removing 20806 rows with all zero counts\n",
      "\n",
      "Removing 22532 rows with all zero counts\n",
      "\n",
      "Removing 20561 rows with all zero counts\n",
      "\n"
     ]
    }
   ],
   "source": [
    "for (cluster in unique(wt_object$final_celltype)) {\n",
    "    curr_object <- wt_object[, wt_object$final_celltype == cluster]\n",
    "    if (ncol(curr_object) < 10) {\n",
    "        next\n",
    "    }\n",
    "    curr_counts <- LayerData(curr_object, layer = c(\"counts\"))\n",
    "    curr_meta <- curr_object@meta.data\n",
    "    curr_sce <- SingleCellExperiment(assays = list(counts = curr_counts), colData = curr_meta)\n",
    "    curr_sce$group <- factor(curr_sce$group, levels = c(\"WT_DMSO\", \"WT_H151\"))\n",
    "    groups <- curr_sce$mouse_id\n",
    "    curr_aggr <- aggregateAcrossCells(curr_sce, groups, store.number = \"group.size\")\n",
    "    \n",
    "    curr_dge <- DGEList(counts = counts(curr_aggr), group = curr_aggr$group, remove.zeros = TRUE)\n",
    "    keep <- filterByExpr(curr_dge, min.count = 5, min.prop = 0.5)\n",
    "    curr_dge <- curr_dge[keep, , keep.lib.sizes=FALSE]\n",
    "    curr_dge <- calcNormFactors(curr_dge, method = \"TMM\")\n",
    "    \n",
    "    curr_design <- model.matrix(~ 0 + curr_aggr$group)\n",
    "    colnames(curr_design) <- levels(curr_aggr$group)\n",
    "    curr_dge <- estimateDisp(curr_dge, curr_design, robust = TRUE)\n",
    "    curr_fit <- glmQLFit(curr_dge, curr_design)\n",
    "    curr_glf <- glmQLFTest(curr_fit, contrast = c(-1, 1))\n",
    "    \n",
    "    write.table(\n",
    "        topTags(curr_glf, n = Inf)$table, \n",
    "        file.path(\"DGE_H151_WT/\", paste0(cluster, \".result.tsv\")), \n",
    "        row.names = TRUE,\n",
    "        col.names = TRUE,\n",
    "        quote = FALSE,\n",
    "        sep = \"\\t\"\n",
    "    )\n",
    "}"
   ]
  },
  {
   "cell_type": "code",
   "execution_count": 6,
   "id": "6ace8fb9-f424-47db-8025-59e78e782af5",
   "metadata": {
    "collapsed": true,
    "jupyter": {
     "outputs_hidden": true
    },
    "tags": []
   },
   "outputs": [
    {
     "name": "stderr",
     "output_type": "stream",
     "text": [
      "Removing 9213 rows with all zero counts\n",
      "\n",
      "Removing 9949 rows with all zero counts\n",
      "\n",
      "Removing 8575 rows with all zero counts\n",
      "\n",
      "Removing 13620 rows with all zero counts\n",
      "\n",
      "Removing 12893 rows with all zero counts\n",
      "\n",
      "Removing 12272 rows with all zero counts\n",
      "\n"
     ]
    }
   ],
   "source": [
    "for (cluster in unique(wt_object$final_cluster)) {\n",
    "    if (!(cluster %in% c(\"SUB_1\", \"SUB_2\", \"SUB_3\", \"SUB-ProS\", \"CA2\", \"CA3\"))) {\n",
    "        next\n",
    "    }\n",
    "    curr_object <- wt_object[, wt_object$final_cluster == cluster]\n",
    "    if (ncol(curr_object) < 10) {\n",
    "        next\n",
    "    }\n",
    "    curr_counts <- LayerData(curr_object, layer = c(\"counts\"))\n",
    "    curr_meta <- curr_object@meta.data\n",
    "    curr_sce <- SingleCellExperiment(assays = list(counts = curr_counts), colData = curr_meta)\n",
    "    curr_sce$group <- factor(curr_sce$group, levels = c(\"WT_DMSO\", \"WT_H151\"))\n",
    "    groups <- curr_sce$mouse_id\n",
    "    curr_aggr <- aggregateAcrossCells(curr_sce, groups, store.number = \"group.size\")\n",
    "    \n",
    "    curr_dge <- DGEList(counts = counts(curr_aggr), group = curr_aggr$group, remove.zeros = TRUE)\n",
    "    keep <- filterByExpr(curr_dge, min.count = 5, min.prop = 0.5)\n",
    "    curr_dge <- curr_dge[keep, , keep.lib.sizes=FALSE]\n",
    "    curr_dge <- calcNormFactors(curr_dge, method = \"TMM\")\n",
    "    \n",
    "    curr_design <- model.matrix(~ 0 + curr_aggr$group)\n",
    "    colnames(curr_design) <- levels(curr_aggr$group)\n",
    "    curr_dge <- estimateDisp(curr_dge, curr_design, robust = TRUE)\n",
    "    curr_fit <- glmQLFit(curr_dge, curr_design)\n",
    "    curr_glf <- glmQLFTest(curr_fit, contrast = c(-1, 1))\n",
    "    \n",
    "    write.table(\n",
    "        topTags(curr_glf, n = Inf)$table, \n",
    "        file.path(\"DGE_H151_WT/\", paste0(cluster, \".result.tsv\")), \n",
    "        row.names = TRUE,\n",
    "        col.names = TRUE,\n",
    "        quote = FALSE,\n",
    "        sep = \"\\t\"\n",
    "    )\n",
    "}"
   ]
  },
  {
   "cell_type": "code",
   "execution_count": null,
   "id": "7c732beb-9430-43ce-a30a-886d10049f38",
   "metadata": {},
   "outputs": [],
   "source": []
  }
 ],
 "metadata": {
  "kernelspec": {
   "display_name": "R",
   "language": "R",
   "name": "ir"
  },
  "language_info": {
   "codemirror_mode": "r",
   "file_extension": ".r",
   "mimetype": "text/x-r-source",
   "name": "R",
   "pygments_lexer": "r",
   "version": "4.3.1"
  }
 },
 "nbformat": 4,
 "nbformat_minor": 5
}
