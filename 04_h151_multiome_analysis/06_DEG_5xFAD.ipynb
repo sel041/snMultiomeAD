{
 "cells": [
  {
   "cell_type": "markdown",
   "id": "b45c03c3-3b1a-4bb7-a63e-f4449ca72033",
   "metadata": {},
   "source": [
    "# Compare H151 treated 5xFAD vs DMSO treated 5xFAD"
   ]
  },
  {
   "cell_type": "code",
   "execution_count": 1,
   "id": "b0b23c56-f138-48c6-b5a3-e8e28610e185",
   "metadata": {
    "tags": []
   },
   "outputs": [],
   "source": [
    "suppressPackageStartupMessages({\n",
    "    library(Seurat)\n",
    "    library(SeuratWrappers)\n",
    "    library(patchwork)\n",
    "    library(ggplot2)\n",
    "    library(repr)\n",
    "    library(gridExtra)\n",
    "    library(edgeR)\n",
    "    library(SingleCellExperiment)\n",
    "    library(Matrix)\n",
    "    library(scran)\n",
    "    library(tidyverse)\n",
    "    library(ggrepel)\n",
    "    library(scater)\n",
    "})\n",
    "options(future.globals.maxSize = 1e9)\n",
    "options(Seurat.object.assay.version = \"v5\")\n",
    "options(ggrepel.max.overlaps = Inf)"
   ]
  },
  {
   "cell_type": "code",
   "execution_count": 2,
   "id": "3372db05-3c22-4d1c-a498-0375419a7adf",
   "metadata": {
    "tags": []
   },
   "outputs": [],
   "source": [
    "setwd(\"~/5XFAD_mouse/data/\")"
   ]
  },
  {
   "cell_type": "code",
   "execution_count": 3,
   "id": "1ee53ca5-5759-49c3-bab0-9933c04db3db",
   "metadata": {
    "tags": []
   },
   "outputs": [],
   "source": [
    "seurat_object <- readRDS(\n",
    "    \"mouseAD_H151_RNA_seurat_object.rds\")"
   ]
  },
  {
   "cell_type": "code",
   "execution_count": 4,
   "id": "15b20496-77e0-4c5c-ade3-66f736df6dcc",
   "metadata": {
    "tags": []
   },
   "outputs": [
    {
     "data": {
      "text/html": [
       "<style>\n",
       ".list-inline {list-style: none; margin:0; padding: 0}\n",
       ".list-inline>li {display: inline-block}\n",
       ".list-inline>li:not(:last-child)::after {content: \"\\00b7\"; padding: 0 .5ex}\n",
       "</style>\n",
       "<ol class=list-inline><li>'WT'</li><li>'5XFAD'</li></ol>\n"
      ],
      "text/latex": [
       "\\begin{enumerate*}\n",
       "\\item 'WT'\n",
       "\\item '5XFAD'\n",
       "\\end{enumerate*}\n"
      ],
      "text/markdown": [
       "1. 'WT'\n",
       "2. '5XFAD'\n",
       "\n",
       "\n"
      ],
      "text/plain": [
       "[1] \"WT\"    \"5XFAD\""
      ]
     },
     "metadata": {},
     "output_type": "display_data"
    }
   ],
   "source": [
    "unique(seurat_object$genotype)"
   ]
  },
  {
   "cell_type": "code",
   "execution_count": 5,
   "id": "e20eb00b-4b39-4af1-9de1-3f5f9ba5a513",
   "metadata": {
    "tags": []
   },
   "outputs": [],
   "source": [
    "fad_object <- subset(seurat_object, subset = genotype == \"5XFAD\")"
   ]
  },
  {
   "cell_type": "code",
   "execution_count": null,
   "id": "8b40bd62-59de-4fc7-b3ef-6706dd014448",
   "metadata": {
    "jupyter": {
     "outputs_hidden": true
    },
    "tags": []
   },
   "outputs": [],
   "source": [
    "for (cluster in unique(fad_object$final_celltype)) {\n",
    "    curr_object <- fad_object[, fad_object$final_celltype == cluster]\n",
    "    if (ncol(curr_object) < 10) {\n",
    "        next\n",
    "    }\n",
    "    curr_counts <- LayerData(curr_object, layer = c(\"counts\"))\n",
    "    curr_meta <- curr_object@meta.data\n",
    "    curr_sce <- SingleCellExperiment(assays = list(counts = curr_counts), colData = curr_meta)\n",
    "    curr_sce$group <- factor(curr_sce$group, levels = c(\"5XFAD_DMSO\", \"5XFAD_H151\"))\n",
    "    groups <- curr_sce$mouse_id\n",
    "    curr_aggr <- aggregateAcrossCells(curr_sce, groups, store.number = \"group.size\")\n",
    "    \n",
    "    curr_dge <- DGEList(counts = counts(curr_aggr), group = curr_aggr$group, remove.zeros = TRUE)\n",
    "    keep <- filterByExpr(curr_dge, min.count = 5, min.prop = 0.5)\n",
    "    curr_dge <- curr_dge[keep, , keep.lib.sizes=FALSE]\n",
    "    curr_dge <- calcNormFactors(curr_dge, method = \"TMM\")\n",
    "    \n",
    "    curr_design <- model.matrix(~ 0 + curr_aggr$group)\n",
    "    colnames(curr_design) <- levels(curr_aggr$group)\n",
    "    curr_dge <- estimateDisp(curr_dge, curr_design, robust = TRUE)\n",
    "    curr_fit <- glmQLFit(curr_dge, curr_design)\n",
    "    curr_glf <- glmQLFTest(curr_fit, contrast = c(-1, 1))\n",
    "    \n",
    "    write.table(\n",
    "        topTags(curr_glf, n = Inf)$table, \n",
    "        file.path(\"DGE_H151_5XFAD/\", paste0(cluster, \".result.tsv\")), \n",
    "        row.names = TRUE,\n",
    "        col.names = TRUE,\n",
    "        quote = FALSE,\n",
    "        sep = \"\\t\"\n",
    "    )\n",
    "}"
   ]
  },
  {
   "cell_type": "code",
   "execution_count": 6,
   "id": "423706ab-aea9-480d-83cd-b3902610a1cb",
   "metadata": {
    "tags": []
   },
   "outputs": [
    {
     "data": {
      "text/html": [
       "<style>\n",
       ".list-inline {list-style: none; margin:0; padding: 0}\n",
       ".list-inline>li {display: inline-block}\n",
       ".list-inline>li:not(:last-child)::after {content: \"\\00b7\"; padding: 0 .5ex}\n",
       "</style>\n",
       "<ol class=list-inline><li>DG</li><li>DAM</li><li>SUB_2</li><li>SUB_3</li><li>SUB_1</li><li>IOL</li><li>SUB-ProS</li><li>OPC</li><li>CA1</li><li>CA2</li><li>HMG</li><li>CA3</li><li>Vip</li><li>MOL</li><li>NFOL</li><li>Pvalb</li><li>Chandelier</li><li>DAO</li><li>Meis2</li><li>Sncg</li><li>Lamp5</li><li>Sst</li><li>Astro</li><li>Endo</li><li>IFN</li><li>VLMC</li><li>SMC-Peri</li><li>PVM</li><li>Choroid-plexus</li></ol>\n",
       "\n",
       "<details>\n",
       "\t<summary style=display:list-item;cursor:pointer>\n",
       "\t\t<strong>Levels</strong>:\n",
       "\t</summary>\n",
       "\t<style>\n",
       "\t.list-inline {list-style: none; margin:0; padding: 0}\n",
       "\t.list-inline>li {display: inline-block}\n",
       "\t.list-inline>li:not(:last-child)::after {content: \"\\00b7\"; padding: 0 .5ex}\n",
       "\t</style>\n",
       "\t<ol class=list-inline><li>'DG'</li><li>'CA1'</li><li>'CA2'</li><li>'CA3'</li><li>'SUB_1'</li><li>'SUB_2'</li><li>'SUB_3'</li><li>'SUB-ProS'</li><li>'Lamp5'</li><li>'Pvalb'</li><li>'Sst'</li><li>'Vip'</li><li>'Meis2'</li><li>'Sncg'</li><li>'Chandelier'</li><li>'Astro'</li><li>'OPC'</li><li>'IOL'</li><li>'NFOL'</li><li>'MOL'</li><li>'DAO'</li><li>'HMG'</li><li>'DAM'</li><li>'IFN'</li><li>'PVM'</li><li>'VLMC'</li><li>'Endo'</li><li>'SMC-Peri'</li><li>'Choroid-plexus'</li></ol>\n",
       "</details>"
      ],
      "text/latex": [
       "\\begin{enumerate*}\n",
       "\\item DG\n",
       "\\item DAM\n",
       "\\item SUB\\_2\n",
       "\\item SUB\\_3\n",
       "\\item SUB\\_1\n",
       "\\item IOL\n",
       "\\item SUB-ProS\n",
       "\\item OPC\n",
       "\\item CA1\n",
       "\\item CA2\n",
       "\\item HMG\n",
       "\\item CA3\n",
       "\\item Vip\n",
       "\\item MOL\n",
       "\\item NFOL\n",
       "\\item Pvalb\n",
       "\\item Chandelier\n",
       "\\item DAO\n",
       "\\item Meis2\n",
       "\\item Sncg\n",
       "\\item Lamp5\n",
       "\\item Sst\n",
       "\\item Astro\n",
       "\\item Endo\n",
       "\\item IFN\n",
       "\\item VLMC\n",
       "\\item SMC-Peri\n",
       "\\item PVM\n",
       "\\item Choroid-plexus\n",
       "\\end{enumerate*}\n",
       "\n",
       "\\emph{Levels}: \\begin{enumerate*}\n",
       "\\item 'DG'\n",
       "\\item 'CA1'\n",
       "\\item 'CA2'\n",
       "\\item 'CA3'\n",
       "\\item 'SUB\\_1'\n",
       "\\item 'SUB\\_2'\n",
       "\\item 'SUB\\_3'\n",
       "\\item 'SUB-ProS'\n",
       "\\item 'Lamp5'\n",
       "\\item 'Pvalb'\n",
       "\\item 'Sst'\n",
       "\\item 'Vip'\n",
       "\\item 'Meis2'\n",
       "\\item 'Sncg'\n",
       "\\item 'Chandelier'\n",
       "\\item 'Astro'\n",
       "\\item 'OPC'\n",
       "\\item 'IOL'\n",
       "\\item 'NFOL'\n",
       "\\item 'MOL'\n",
       "\\item 'DAO'\n",
       "\\item 'HMG'\n",
       "\\item 'DAM'\n",
       "\\item 'IFN'\n",
       "\\item 'PVM'\n",
       "\\item 'VLMC'\n",
       "\\item 'Endo'\n",
       "\\item 'SMC-Peri'\n",
       "\\item 'Choroid-plexus'\n",
       "\\end{enumerate*}\n"
      ],
      "text/markdown": [
       "1. DG\n",
       "2. DAM\n",
       "3. SUB_2\n",
       "4. SUB_3\n",
       "5. SUB_1\n",
       "6. IOL\n",
       "7. SUB-ProS\n",
       "8. OPC\n",
       "9. CA1\n",
       "10. CA2\n",
       "11. HMG\n",
       "12. CA3\n",
       "13. Vip\n",
       "14. MOL\n",
       "15. NFOL\n",
       "16. Pvalb\n",
       "17. Chandelier\n",
       "18. DAO\n",
       "19. Meis2\n",
       "20. Sncg\n",
       "21. Lamp5\n",
       "22. Sst\n",
       "23. Astro\n",
       "24. Endo\n",
       "25. IFN\n",
       "26. VLMC\n",
       "27. SMC-Peri\n",
       "28. PVM\n",
       "29. Choroid-plexus\n",
       "\n",
       "\n",
       "\n",
       "**Levels**: 1. 'DG'\n",
       "2. 'CA1'\n",
       "3. 'CA2'\n",
       "4. 'CA3'\n",
       "5. 'SUB_1'\n",
       "6. 'SUB_2'\n",
       "7. 'SUB_3'\n",
       "8. 'SUB-ProS'\n",
       "9. 'Lamp5'\n",
       "10. 'Pvalb'\n",
       "11. 'Sst'\n",
       "12. 'Vip'\n",
       "13. 'Meis2'\n",
       "14. 'Sncg'\n",
       "15. 'Chandelier'\n",
       "16. 'Astro'\n",
       "17. 'OPC'\n",
       "18. 'IOL'\n",
       "19. 'NFOL'\n",
       "20. 'MOL'\n",
       "21. 'DAO'\n",
       "22. 'HMG'\n",
       "23. 'DAM'\n",
       "24. 'IFN'\n",
       "25. 'PVM'\n",
       "26. 'VLMC'\n",
       "27. 'Endo'\n",
       "28. 'SMC-Peri'\n",
       "29. 'Choroid-plexus'\n",
       "\n",
       "\n"
      ],
      "text/plain": [
       " [1] DG             DAM            SUB_2          SUB_3          SUB_1         \n",
       " [6] IOL            SUB-ProS       OPC            CA1            CA2           \n",
       "[11] HMG            CA3            Vip            MOL            NFOL          \n",
       "[16] Pvalb          Chandelier     DAO            Meis2          Sncg          \n",
       "[21] Lamp5          Sst            Astro          Endo           IFN           \n",
       "[26] VLMC           SMC-Peri       PVM            Choroid-plexus\n",
       "29 Levels: DG CA1 CA2 CA3 SUB_1 SUB_2 SUB_3 SUB-ProS Lamp5 Pvalb Sst ... Choroid-plexus"
      ]
     },
     "metadata": {},
     "output_type": "display_data"
    }
   ],
   "source": [
    "unique(fad_object$final_cluster)"
   ]
  },
  {
   "cell_type": "code",
   "execution_count": 7,
   "id": "c58d5c03-b3a5-45b9-bf35-9a1d4fa26b51",
   "metadata": {
    "tags": []
   },
   "outputs": [
    {
     "data": {
      "text/html": [
       "<style>\n",
       ".list-inline {list-style: none; margin:0; padding: 0}\n",
       ".list-inline>li {display: inline-block}\n",
       ".list-inline>li:not(:last-child)::after {content: \"\\00b7\"; padding: 0 .5ex}\n",
       "</style>\n",
       "<ol class=list-inline><li>DG</li><li>Micro</li><li>SUB</li><li>IOL</li><li>OPC</li><li>CA1</li><li>CA2-CA3</li><li>Vip</li><li>Oligo</li><li>Pvalb</li><li>Chandelier</li><li>Meis2</li><li>Sncg</li><li>Lamp5</li><li>Sst</li><li>Astro</li><li>Endo</li><li>VLMC</li><li>SMC-Peri</li><li>Macro</li><li>Choroid-plexus</li></ol>\n",
       "\n",
       "<details>\n",
       "\t<summary style=display:list-item;cursor:pointer>\n",
       "\t\t<strong>Levels</strong>:\n",
       "\t</summary>\n",
       "\t<style>\n",
       "\t.list-inline {list-style: none; margin:0; padding: 0}\n",
       "\t.list-inline>li {display: inline-block}\n",
       "\t.list-inline>li:not(:last-child)::after {content: \"\\00b7\"; padding: 0 .5ex}\n",
       "\t</style>\n",
       "\t<ol class=list-inline><li>'DG'</li><li>'CA1'</li><li>'CA2-CA3'</li><li>'SUB'</li><li>'Lamp5'</li><li>'Pvalb'</li><li>'Sst'</li><li>'Vip'</li><li>'Meis2'</li><li>'Sncg'</li><li>'Chandelier'</li><li>'Astro'</li><li>'OPC'</li><li>'IOL'</li><li>'Oligo'</li><li>'Micro'</li><li>'Macro'</li><li>'VLMC'</li><li>'Endo'</li><li>'SMC-Peri'</li><li>'Choroid-plexus'</li></ol>\n",
       "</details>"
      ],
      "text/latex": [
       "\\begin{enumerate*}\n",
       "\\item DG\n",
       "\\item Micro\n",
       "\\item SUB\n",
       "\\item IOL\n",
       "\\item OPC\n",
       "\\item CA1\n",
       "\\item CA2-CA3\n",
       "\\item Vip\n",
       "\\item Oligo\n",
       "\\item Pvalb\n",
       "\\item Chandelier\n",
       "\\item Meis2\n",
       "\\item Sncg\n",
       "\\item Lamp5\n",
       "\\item Sst\n",
       "\\item Astro\n",
       "\\item Endo\n",
       "\\item VLMC\n",
       "\\item SMC-Peri\n",
       "\\item Macro\n",
       "\\item Choroid-plexus\n",
       "\\end{enumerate*}\n",
       "\n",
       "\\emph{Levels}: \\begin{enumerate*}\n",
       "\\item 'DG'\n",
       "\\item 'CA1'\n",
       "\\item 'CA2-CA3'\n",
       "\\item 'SUB'\n",
       "\\item 'Lamp5'\n",
       "\\item 'Pvalb'\n",
       "\\item 'Sst'\n",
       "\\item 'Vip'\n",
       "\\item 'Meis2'\n",
       "\\item 'Sncg'\n",
       "\\item 'Chandelier'\n",
       "\\item 'Astro'\n",
       "\\item 'OPC'\n",
       "\\item 'IOL'\n",
       "\\item 'Oligo'\n",
       "\\item 'Micro'\n",
       "\\item 'Macro'\n",
       "\\item 'VLMC'\n",
       "\\item 'Endo'\n",
       "\\item 'SMC-Peri'\n",
       "\\item 'Choroid-plexus'\n",
       "\\end{enumerate*}\n"
      ],
      "text/markdown": [
       "1. DG\n",
       "2. Micro\n",
       "3. SUB\n",
       "4. IOL\n",
       "5. OPC\n",
       "6. CA1\n",
       "7. CA2-CA3\n",
       "8. Vip\n",
       "9. Oligo\n",
       "10. Pvalb\n",
       "11. Chandelier\n",
       "12. Meis2\n",
       "13. Sncg\n",
       "14. Lamp5\n",
       "15. Sst\n",
       "16. Astro\n",
       "17. Endo\n",
       "18. VLMC\n",
       "19. SMC-Peri\n",
       "20. Macro\n",
       "21. Choroid-plexus\n",
       "\n",
       "\n",
       "\n",
       "**Levels**: 1. 'DG'\n",
       "2. 'CA1'\n",
       "3. 'CA2-CA3'\n",
       "4. 'SUB'\n",
       "5. 'Lamp5'\n",
       "6. 'Pvalb'\n",
       "7. 'Sst'\n",
       "8. 'Vip'\n",
       "9. 'Meis2'\n",
       "10. 'Sncg'\n",
       "11. 'Chandelier'\n",
       "12. 'Astro'\n",
       "13. 'OPC'\n",
       "14. 'IOL'\n",
       "15. 'Oligo'\n",
       "16. 'Micro'\n",
       "17. 'Macro'\n",
       "18. 'VLMC'\n",
       "19. 'Endo'\n",
       "20. 'SMC-Peri'\n",
       "21. 'Choroid-plexus'\n",
       "\n",
       "\n"
      ],
      "text/plain": [
       " [1] DG             Micro          SUB            IOL            OPC           \n",
       " [6] CA1            CA2-CA3        Vip            Oligo          Pvalb         \n",
       "[11] Chandelier     Meis2          Sncg           Lamp5          Sst           \n",
       "[16] Astro          Endo           VLMC           SMC-Peri       Macro         \n",
       "[21] Choroid-plexus\n",
       "21 Levels: DG CA1 CA2-CA3 SUB Lamp5 Pvalb Sst Vip Meis2 Sncg ... Choroid-plexus"
      ]
     },
     "metadata": {},
     "output_type": "display_data"
    }
   ],
   "source": [
    "unique(fad_object$final_celltype)"
   ]
  },
  {
   "cell_type": "code",
   "execution_count": 8,
   "id": "fee7af38-f9ae-4dc4-8f22-dc468880c06a",
   "metadata": {
    "collapsed": true,
    "jupyter": {
     "outputs_hidden": true
    },
    "tags": []
   },
   "outputs": [
    {
     "name": "stderr",
     "output_type": "stream",
     "text": [
      "Removing 7509 rows with all zero counts\n",
      "\n",
      "Removing 12663 rows with all zero counts\n",
      "\n",
      "Removing 10458 rows with all zero counts\n",
      "\n",
      "Removing 11747 rows with all zero counts\n",
      "\n",
      "Removing 12208 rows with all zero counts\n",
      "\n",
      "Removing 8343 rows with all zero counts\n",
      "\n"
     ]
    }
   ],
   "source": [
    "for (cluster in unique(fad_object$final_cluster)) {\n",
    "    if (!(cluster %in% c(\"SUB_1\", \"SUB_2\", \"SUB_3\", \"SUB-ProS\", \"CA2\", \"CA3\"))) {\n",
    "        next\n",
    "    }\n",
    "    curr_object <- fad_object[, fad_object$final_cluster == cluster]\n",
    "    if (ncol(curr_object) < 10) {\n",
    "        next\n",
    "    }\n",
    "    curr_counts <- LayerData(curr_object, layer = c(\"counts\"))\n",
    "    curr_meta <- curr_object@meta.data\n",
    "    curr_sce <- SingleCellExperiment(assays = list(counts = curr_counts), colData = curr_meta)\n",
    "    curr_sce$group <- factor(curr_sce$group, levels = c(\"5XFAD_DMSO\", \"5XFAD_H151\"))\n",
    "    groups <- curr_sce$mouse_id\n",
    "    curr_aggr <- aggregateAcrossCells(curr_sce, groups, store.number = \"group.size\")\n",
    "    \n",
    "    curr_dge <- DGEList(counts = counts(curr_aggr), group = curr_aggr$group, remove.zeros = TRUE)\n",
    "    keep <- filterByExpr(curr_dge, min.count = 5, min.prop = 0.5)\n",
    "    curr_dge <- curr_dge[keep, , keep.lib.sizes=FALSE]\n",
    "    curr_dge <- calcNormFactors(curr_dge, method = \"TMM\")\n",
    "    \n",
    "    curr_design <- model.matrix(~ 0 + curr_aggr$group)\n",
    "    colnames(curr_design) <- levels(curr_aggr$group)\n",
    "    curr_dge <- estimateDisp(curr_dge, curr_design, robust = TRUE)\n",
    "    curr_fit <- glmQLFit(curr_dge, curr_design)\n",
    "    curr_glf <- glmQLFTest(curr_fit, contrast = c(-1, 1))\n",
    "    \n",
    "    write.table(\n",
    "        topTags(curr_glf, n = Inf)$table, \n",
    "        file.path(\"DGE_H151_5XFAD/\", paste0(cluster, \".result.tsv\")), \n",
    "        row.names = TRUE,\n",
    "        col.names = TRUE,\n",
    "        quote = FALSE,\n",
    "        sep = \"\\t\"\n",
    "    )\n",
    "}"
   ]
  },
  {
   "cell_type": "code",
   "execution_count": null,
   "id": "979d91a2-6b5b-4166-8531-a7d8c1acff8e",
   "metadata": {},
   "outputs": [],
   "source": []
  }
 ],
 "metadata": {
  "kernelspec": {
   "display_name": "R",
   "language": "R",
   "name": "ir"
  },
  "language_info": {
   "codemirror_mode": "r",
   "file_extension": ".r",
   "mimetype": "text/x-r-source",
   "name": "R",
   "pygments_lexer": "r",
   "version": "4.3.1"
  }
 },
 "nbformat": 4,
 "nbformat_minor": 5
}
