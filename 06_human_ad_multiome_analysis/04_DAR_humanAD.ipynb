{
 "cells": [
  {
   "cell_type": "markdown",
   "id": "88e6614b-3f1c-4e6e-a310-7ff0fee5bef7",
   "metadata": {},
   "source": [
    "# Compare human AD Control vs disease"
   ]
  },
  {
   "cell_type": "code",
   "execution_count": 1,
   "id": "8c457c3b-c83a-4e2b-829d-f8507f3589cc",
   "metadata": {
    "tags": []
   },
   "outputs": [],
   "source": [
    "suppressPackageStartupMessages({\n",
    "    library(Seurat)\n",
    "    library(SeuratWrappers)\n",
    "    library(patchwork)\n",
    "    library(ggplot2)\n",
    "    library(repr)\n",
    "    library(gridExtra)\n",
    "    library(edgeR)\n",
    "    library(SingleCellExperiment)\n",
    "    library(Matrix)\n",
    "    library(scran)\n",
    "    library(tidyverse)\n",
    "    library(ggrepel)\n",
    "    library(scater)\n",
    "    library(fs)\n",
    "    library(Signac)\n",
    "})\n",
    "options(future.globals.maxSize = 1e9)\n",
    "options(Seurat.object.assay.version = \"v5\")\n",
    "options(ggrepel.max.overlaps = Inf)"
   ]
  },
  {
   "cell_type": "code",
   "execution_count": 2,
   "id": "56f0ecc5-8967-49d7-bef0-27fbc07a9c52",
   "metadata": {
    "tags": []
   },
   "outputs": [],
   "source": [
    "setwd(\"~/5XFAD_mouse/data/\")"
   ]
  },
  {
   "cell_type": "code",
   "execution_count": 3,
   "id": "54aa49de-8e12-4f1b-959d-9932b0a96d07",
   "metadata": {
    "tags": []
   },
   "outputs": [],
   "source": [
    "seurat_object <- readRDS(\n",
    "    \"humanAD_ATAC_signac_object.rds\")"
   ]
  },
  {
   "cell_type": "code",
   "execution_count": 4,
   "id": "d6d257ee-a971-402f-b3e1-3a881babfabe",
   "metadata": {
    "tags": []
   },
   "outputs": [],
   "source": [
    "seurat_object <- subset(seurat_object, subset = group %in% c(\"AD\", \"Normal\"))"
   ]
  },
  {
   "cell_type": "code",
   "execution_count": 5,
   "id": "344a3537-8fb8-4dfe-b710-e75196450dc9",
   "metadata": {
    "tags": []
   },
   "outputs": [],
   "source": [
    "subclasses <- path_ext_remove(path_file(dir_ls(\"humanAD_raw_peaks/\")))"
   ]
  },
  {
   "cell_type": "code",
   "execution_count": 6,
   "id": "b991123d-0232-4c7c-8f65-45bf43680ebf",
   "metadata": {
    "tags": []
   },
   "outputs": [
    {
     "data": {
      "text/plain": [
       "          \n",
       "             AD Normal\n",
       "  ad13     5344      0\n",
       "  ad1551   3760      0\n",
       "  ad22     3935      0\n",
       "  ad24     5018      0\n",
       "  ad671    6393      0\n",
       "  hc11        0   1912\n",
       "  hc1153      0   2550\n",
       "  hc12        0   5747\n",
       "  hc1203      0   5430\n",
       "  hc1216      0   7955\n",
       "  hc19        0   4825\n",
       "  hc212191    0   6038\n",
       "  hc26        0   8917\n",
       "  hc35        0   7018\n",
       "  hc40        0   6302\n",
       "  hc69984     0   4355\n",
       "  hc73        0   5307\n",
       "  hc9         0   5972\n",
       "  hc98        0   9828"
      ]
     },
     "metadata": {},
     "output_type": "display_data"
    }
   ],
   "source": [
    "table(seurat_object$orig.ident, seurat_object$group)"
   ]
  },
  {
   "cell_type": "code",
   "execution_count": 13,
   "id": "43fa9e46-57fc-4691-9847-08f62b4085fd",
   "metadata": {
    "collapsed": true,
    "jupyter": {
     "outputs_hidden": true
    },
    "tags": []
   },
   "outputs": [
    {
     "name": "stderr",
     "output_type": "stream",
     "text": [
      "Removing 520 rows with all zero counts\n",
      "\n",
      "Removing 7 rows with all zero counts\n",
      "\n",
      "Removing 3 rows with all zero counts\n",
      "\n",
      "Removing 8 rows with all zero counts\n",
      "\n",
      "Removing 1 rows with all zero counts\n",
      "\n",
      "Removing 182 rows with all zero counts\n",
      "\n",
      "Removing 1 rows with all zero counts\n",
      "\n",
      "Removing 30 rows with all zero counts\n",
      "\n",
      "Removing 23 rows with all zero counts\n",
      "\n"
     ]
    }
   ],
   "source": [
    "for (subclass in subclasses) {\n",
    "    # if (subclass %in% c(\"Choroid-plexus\", \"Endo\", \"IOL\", \"PVM\", \"SMC-Peri\", \"VLMC\")) {\n",
    "    #     next\n",
    "    # }\n",
    "    \n",
    "    bed_file <- sprintf(\"humanAD_raw_peaks/%s.bed\", subclass)\n",
    "    bed_table <- read.table(bed_file, sep = \"\\t\", header = FALSE)\n",
    "    colnames(bed_table) <- c(\"chrom\", \"start\", \"end\", \"label\")\n",
    "    kept_peaks <- paste(bed_table$chrom, bed_table$start, bed_table$end, sep = \"-\")\n",
    "    curr_object <- subset(seurat_object, subset = final_cluster == subclass)\n",
    "    curr_object <- curr_object[kept_peaks]\n",
    "    \n",
    "    curr_sce <- SingleCellExperiment(\n",
    "        list(counts = LayerData(curr_object, layer = \"counts\")),\n",
    "        colData = curr_object@meta.data\n",
    "    )\n",
    "    curr_sce_aggr <- aggregateAcrossCells(curr_sce, curr_object$orig.ident)\n",
    "    \n",
    "    curr_counts <- counts(curr_sce_aggr)\n",
    "    Group <- curr_sce_aggr$group\n",
    "    Group <- factor(Group, levels = c(\"Normal\", \"AD\"))\n",
    "    \n",
    "    curr_dge <- DGEList(counts = curr_counts, group = Group, remove.zeros = TRUE)\n",
    "    # keep <- filterByExpr(curr_dge, min.count = 2, min.prop = 0.5)\n",
    "    # curr_dge <- curr_dge[keep, , keep.lib.sizes=FALSE]\n",
    "    curr_dge <- calcNormFactors(curr_dge, method = \"TMM\")\n",
    "    \n",
    "    curr_design <- model.matrix(~ 0 + Group)\n",
    "    colnames(curr_design) <- levels(Group)\n",
    "    curr_dge <- estimateDisp(curr_dge, curr_design, robust = TRUE)\n",
    "    curr_fit <- glmQLFit(curr_dge, curr_design)\n",
    "    curr_glf <- glmQLFTest(curr_fit, contrast = c(-1, 1))\n",
    "    \n",
    "    write.table(\n",
    "        topTags(curr_glf, n = Inf)$table, \n",
    "        file.path(\"DAR_humanAD//\", paste0(subclass, \".result.tsv\")), \n",
    "        row.names = TRUE,\n",
    "        col.names = TRUE,\n",
    "        quote = FALSE,\n",
    "        sep = \"\\t\"\n",
    "    )\n",
    "}"
   ]
  },
  {
   "cell_type": "code",
   "execution_count": null,
   "id": "b869b524-b456-4910-8d96-7149dcc86b3d",
   "metadata": {},
   "outputs": [],
   "source": []
  }
 ],
 "metadata": {
  "kernelspec": {
   "display_name": "R",
   "language": "R",
   "name": "ir"
  },
  "language_info": {
   "codemirror_mode": "r",
   "file_extension": ".r",
   "mimetype": "text/x-r-source",
   "name": "R",
   "pygments_lexer": "r",
   "version": "4.3.1"
  }
 },
 "nbformat": 4,
 "nbformat_minor": 5
}
